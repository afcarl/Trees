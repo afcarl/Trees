{
 "cells": [
  {
   "cell_type": "markdown",
   "metadata": {},
   "source": [
    "# Data Exploration\n",
    "\n",
    "This notebook explores data prior to the 2015 tree census"
   ]
  },
  {
   "cell_type": "code",
   "execution_count": 8,
   "metadata": {
    "collapsed": true
   },
   "outputs": [],
   "source": [
    "import pandas as pd\n",
    "import numpy as np\n",
    "import matplotlib.pyplot as plt\n",
    "import geopandas as gp\n",
    "\n",
    "%matplotlib inline\n",
    "plt.style.use('fivethirtyeight')"
   ]
  },
  {
   "cell_type": "code",
   "execution_count": 21,
   "metadata": {
    "collapsed": false
   },
   "outputs": [],
   "source": [
    "#Data reading\n",
    "trees95 = pd.read_csv('../data/1995_Street_Tree_Census.csv') \n",
    "trees05 = pd.read_csv('../data/2005_Street_Tree_Census.csv')\n",
    "trees15 = pd.read_csv('../data/2015_Street_Tree_Census_-_Tree_Data.csv')"
   ]
  },
  {
   "cell_type": "markdown",
   "metadata": {},
   "source": [
    "### Exploring '95 data"
   ]
  },
  {
   "cell_type": "code",
   "execution_count": 3,
   "metadata": {
    "collapsed": false
   },
   "outputs": [
    {
     "data": {
      "text/html": [
       "<div>\n",
       "<table border=\"1\" class=\"dataframe\">\n",
       "  <thead>\n",
       "    <tr style=\"text-align: right;\">\n",
       "      <th></th>\n",
       "      <th>RecordId</th>\n",
       "      <th>Address</th>\n",
       "      <th>House_Number</th>\n",
       "      <th>Street</th>\n",
       "      <th>Zip_Original</th>\n",
       "      <th>CB_Original</th>\n",
       "      <th>Site</th>\n",
       "      <th>Species</th>\n",
       "      <th>Diameter</th>\n",
       "      <th>Condition</th>\n",
       "      <th>...</th>\n",
       "      <th>Latitude</th>\n",
       "      <th>CB_New</th>\n",
       "      <th>Zip_New</th>\n",
       "      <th>CensusTract_2010</th>\n",
       "      <th>CensusBlock_2010</th>\n",
       "      <th>NTA_2010</th>\n",
       "      <th>SegmentID</th>\n",
       "      <th>Spc_Common</th>\n",
       "      <th>Spc_Latin</th>\n",
       "      <th>Location</th>\n",
       "    </tr>\n",
       "  </thead>\n",
       "  <tbody>\n",
       "    <tr>\n",
       "      <th>0</th>\n",
       "      <td>1</td>\n",
       "      <td>245 E 17 ST</td>\n",
       "      <td>245</td>\n",
       "      <td>E 17 ST</td>\n",
       "      <td>10003</td>\n",
       "      <td>106</td>\n",
       "      <td>Front</td>\n",
       "      <td>PLAC</td>\n",
       "      <td>8</td>\n",
       "      <td>Unknown</td>\n",
       "      <td>...</td>\n",
       "      <td>40.734551</td>\n",
       "      <td>106</td>\n",
       "      <td>10003</td>\n",
       "      <td>48</td>\n",
       "      <td>2000</td>\n",
       "      <td>MN21</td>\n",
       "      <td>33134</td>\n",
       "      <td>LONDON PLANETREE</td>\n",
       "      <td>PLATANUS ACERIFOLIA</td>\n",
       "      <td>(40.734551, -73.984235)</td>\n",
       "    </tr>\n",
       "    <tr>\n",
       "      <th>1</th>\n",
       "      <td>2</td>\n",
       "      <td>80 N MOORE ST</td>\n",
       "      <td>80</td>\n",
       "      <td>N MOORE ST</td>\n",
       "      <td>10013</td>\n",
       "      <td>101</td>\n",
       "      <td>Side</td>\n",
       "      <td>ACPL</td>\n",
       "      <td>7</td>\n",
       "      <td>Good</td>\n",
       "      <td>...</td>\n",
       "      <td>40.720159</td>\n",
       "      <td>101</td>\n",
       "      <td>10013</td>\n",
       "      <td>39</td>\n",
       "      <td>2001</td>\n",
       "      <td>MN24</td>\n",
       "      <td>31567</td>\n",
       "      <td>MAPLE, NORWAY</td>\n",
       "      <td>ACER PLATANOIDES</td>\n",
       "      <td>(40.720159, -74.010532)</td>\n",
       "    </tr>\n",
       "    <tr>\n",
       "      <th>2</th>\n",
       "      <td>3</td>\n",
       "      <td>80 N MOORE ST</td>\n",
       "      <td>80</td>\n",
       "      <td>N MOORE ST</td>\n",
       "      <td>10013</td>\n",
       "      <td>101</td>\n",
       "      <td>Side</td>\n",
       "      <td>ACPL</td>\n",
       "      <td>6</td>\n",
       "      <td>Good</td>\n",
       "      <td>...</td>\n",
       "      <td>40.720159</td>\n",
       "      <td>101</td>\n",
       "      <td>10013</td>\n",
       "      <td>39</td>\n",
       "      <td>2001</td>\n",
       "      <td>MN24</td>\n",
       "      <td>31567</td>\n",
       "      <td>MAPLE, NORWAY</td>\n",
       "      <td>ACER PLATANOIDES</td>\n",
       "      <td>(40.720159, -74.010532)</td>\n",
       "    </tr>\n",
       "    <tr>\n",
       "      <th>3</th>\n",
       "      <td>4</td>\n",
       "      <td>80 N MOORE ST</td>\n",
       "      <td>80</td>\n",
       "      <td>N MOORE ST</td>\n",
       "      <td>10013</td>\n",
       "      <td>101</td>\n",
       "      <td>Side</td>\n",
       "      <td>ACPL</td>\n",
       "      <td>7</td>\n",
       "      <td>Excellent</td>\n",
       "      <td>...</td>\n",
       "      <td>40.720159</td>\n",
       "      <td>101</td>\n",
       "      <td>10013</td>\n",
       "      <td>39</td>\n",
       "      <td>2001</td>\n",
       "      <td>MN24</td>\n",
       "      <td>31567</td>\n",
       "      <td>MAPLE, NORWAY</td>\n",
       "      <td>ACER PLATANOIDES</td>\n",
       "      <td>(40.720159, -74.010532)</td>\n",
       "    </tr>\n",
       "    <tr>\n",
       "      <th>4</th>\n",
       "      <td>5</td>\n",
       "      <td>80 N MOORE ST</td>\n",
       "      <td>80</td>\n",
       "      <td>N MOORE ST</td>\n",
       "      <td>10013</td>\n",
       "      <td>101</td>\n",
       "      <td>Side</td>\n",
       "      <td>ACPL</td>\n",
       "      <td>6</td>\n",
       "      <td>Good</td>\n",
       "      <td>...</td>\n",
       "      <td>40.720159</td>\n",
       "      <td>101</td>\n",
       "      <td>10013</td>\n",
       "      <td>39</td>\n",
       "      <td>2001</td>\n",
       "      <td>MN24</td>\n",
       "      <td>31567</td>\n",
       "      <td>MAPLE, NORWAY</td>\n",
       "      <td>ACER PLATANOIDES</td>\n",
       "      <td>(40.720159, -74.010532)</td>\n",
       "    </tr>\n",
       "  </tbody>\n",
       "</table>\n",
       "<p>5 rows × 27 columns</p>\n",
       "</div>"
      ],
      "text/plain": [
       "   RecordId        Address House_Number      Street  Zip_Original  \\\n",
       "0         1    245 E 17 ST          245     E 17 ST         10003   \n",
       "1         2  80 N MOORE ST           80  N MOORE ST         10013   \n",
       "2         3  80 N MOORE ST           80  N MOORE ST         10013   \n",
       "3         4  80 N MOORE ST           80  N MOORE ST         10013   \n",
       "4         5  80 N MOORE ST           80  N MOORE ST         10013   \n",
       "\n",
       "   CB_Original   Site Species  Diameter  Condition           ...             \\\n",
       "0          106  Front    PLAC         8    Unknown           ...              \n",
       "1          101   Side    ACPL         7       Good           ...              \n",
       "2          101   Side    ACPL         6       Good           ...              \n",
       "3          101   Side    ACPL         7  Excellent           ...              \n",
       "4          101   Side    ACPL         6       Good           ...              \n",
       "\n",
       "    Latitude CB_New Zip_New CensusTract_2010  CensusBlock_2010  NTA_2010  \\\n",
       "0  40.734551    106   10003               48              2000      MN21   \n",
       "1  40.720159    101   10013               39              2001      MN24   \n",
       "2  40.720159    101   10013               39              2001      MN24   \n",
       "3  40.720159    101   10013               39              2001      MN24   \n",
       "4  40.720159    101   10013               39              2001      MN24   \n",
       "\n",
       "   SegmentID        Spc_Common            Spc_Latin                 Location  \n",
       "0      33134  LONDON PLANETREE  PLATANUS ACERIFOLIA  (40.734551, -73.984235)  \n",
       "1      31567     MAPLE, NORWAY     ACER PLATANOIDES  (40.720159, -74.010532)  \n",
       "2      31567     MAPLE, NORWAY     ACER PLATANOIDES  (40.720159, -74.010532)  \n",
       "3      31567     MAPLE, NORWAY     ACER PLATANOIDES  (40.720159, -74.010532)  \n",
       "4      31567     MAPLE, NORWAY     ACER PLATANOIDES  (40.720159, -74.010532)  \n",
       "\n",
       "[5 rows x 27 columns]"
      ]
     },
     "execution_count": 3,
     "metadata": {},
     "output_type": "execute_result"
    }
   ],
   "source": [
    "trees95.head()"
   ]
  },
  {
   "cell_type": "code",
   "execution_count": 4,
   "metadata": {
    "collapsed": false
   },
   "outputs": [
    {
     "data": {
      "text/plain": [
       "Index([u'RecordId', u'Address', u'House_Number', u'Street', u'Zip_Original',\n",
       "       u'CB_Original', u'Site', u'Species', u'Diameter', u'Condition',\n",
       "       u'Wires', u'Sidewalk_Condition', u'Support_Structure', u'Borough', u'X',\n",
       "       u'Y', u'Longitude', u'Latitude', u'CB_New', u'Zip_New',\n",
       "       u'CensusTract_2010', u'CensusBlock_2010', u'NTA_2010', u'SegmentID',\n",
       "       u'Spc_Common', u'Spc_Latin', u'Location'],\n",
       "      dtype='object')"
      ]
     },
     "execution_count": 4,
     "metadata": {},
     "output_type": "execute_result"
    }
   ],
   "source": [
    "trees95.columns"
   ]
  },
  {
   "cell_type": "code",
   "execution_count": 5,
   "metadata": {
    "collapsed": false
   },
   "outputs": [
    {
     "data": {
      "text/plain": [
       "(516989, 27)"
      ]
     },
     "execution_count": 5,
     "metadata": {},
     "output_type": "execute_result"
    }
   ],
   "source": [
    "trees95.shape"
   ]
  },
  {
   "cell_type": "code",
   "execution_count": 6,
   "metadata": {
    "collapsed": false
   },
   "outputs": [
    {
     "data": {
      "text/plain": [
       "array(['Unknown', 'Good', 'Excellent', 'Poor', 'Dead', 'Stump',\n",
       "       'Planting Space', 'Shaft', 'Fair', 'Critical'], dtype=object)"
      ]
     },
     "execution_count": 6,
     "metadata": {},
     "output_type": "execute_result"
    }
   ],
   "source": [
    "pd.unique(trees95['Condition'])"
   ]
  },
  {
   "cell_type": "code",
   "execution_count": 12,
   "metadata": {
    "collapsed": false
   },
   "outputs": [
    {
     "name": "stdout",
     "output_type": "stream",
     "text": [
      "327\n",
      "38571\n",
      "332562\n",
      "100286\n"
     ]
    }
   ],
   "source": [
    "print len(trees95[trees95['Condition'] == 'Fair'])\n",
    "print len(trees95[trees95['Condition'] == 'Poor'])\n",
    "print len(trees95[trees95['Condition'] == 'Good'])\n",
    "print len(trees95[trees95['Condition'] == 'Excellent'])"
   ]
  },
  {
   "cell_type": "code",
   "execution_count": 35,
   "metadata": {
    "collapsed": false
   },
   "outputs": [
    {
     "data": {
      "text/plain": [
       "array(['', 'Good', 'Excellent', 'Poor', 'Fair', 'Critical'], dtype=object)"
      ]
     },
     "execution_count": 35,
     "metadata": {},
     "output_type": "execute_result"
    }
   ],
   "source": [
    "trees95.loc[trees95.Condition == 'Unknown'] = ''\n",
    "trees95.loc[trees95.Condition == 'Dead'] = ''\n",
    "trees95.loc[trees95.Condition == 'Stump'] = ''\n",
    "trees95.loc[trees95.Condition == 'Planting Space'] = ''\n",
    "trees95.loc[trees95.Condition == 'Shaft'] = ''\n",
    "pd.unique(trees95['Condition'])"
   ]
  },
  {
   "cell_type": "code",
   "execution_count": 36,
   "metadata": {
    "collapsed": true
   },
   "outputs": [],
   "source": [
    "trees95.loc[trees95.Condition == 'Critical'] = 'Poor'\n"
   ]
  },
  {
   "cell_type": "code",
   "execution_count": 37,
   "metadata": {
    "collapsed": false
   },
   "outputs": [
    {
     "data": {
      "text/plain": [
       "array(['', 'Good', 'Excellent', 'Poor', 'Fair'], dtype=object)"
      ]
     },
     "execution_count": 37,
     "metadata": {},
     "output_type": "execute_result"
    }
   ],
   "source": [
    "pd.unique(trees95['Condition'])"
   ]
  },
  {
   "cell_type": "code",
   "execution_count": 38,
   "metadata": {
    "collapsed": true
   },
   "outputs": [],
   "source": [
    "trees95.loc[trees95.Condition == 'Fair'] = 'Poor'\n",
    "trees95.loc[trees95.Condition == 'Good'] = 'Fair'\n",
    "trees95.loc[trees95.Condition == 'Excellent'] = 'Good'\n"
   ]
  },
  {
   "cell_type": "code",
   "execution_count": 39,
   "metadata": {
    "collapsed": false
   },
   "outputs": [
    {
     "data": {
      "text/plain": [
       "array(['', 'Fair', 'Good', 'Poor'], dtype=object)"
      ]
     },
     "execution_count": 39,
     "metadata": {},
     "output_type": "execute_result"
    }
   ],
   "source": [
    "pd.unique(trees95['Condition'])"
   ]
  },
  {
   "cell_type": "code",
   "execution_count": 40,
   "metadata": {
    "collapsed": true
   },
   "outputs": [],
   "source": [
    "trees95.rename(index=str, columns={\"Condition\": \"health\"}, inplace=True)"
   ]
  },
  {
   "cell_type": "code",
   "execution_count": 43,
   "metadata": {
    "collapsed": false
   },
   "outputs": [
    {
     "data": {
      "text/plain": [
       "array(['', 'Fair', 'Good', 'Poor'], dtype=object)"
      ]
     },
     "execution_count": 43,
     "metadata": {},
     "output_type": "execute_result"
    }
   ],
   "source": [
    "pd.unique(trees95['health'])"
   ]
  },
  {
   "cell_type": "code",
   "execution_count": 41,
   "metadata": {
    "collapsed": true
   },
   "outputs": [],
   "source": [
    "trees95.to_csv('../data/trees95.csv')"
   ]
  },
  {
   "cell_type": "code",
   "execution_count": 45,
   "metadata": {
    "collapsed": false
   },
   "outputs": [],
   "source": [
    "trees95.drop('Location', axis = 1, inplace=True)"
   ]
  },
  {
   "cell_type": "code",
   "execution_count": 51,
   "metadata": {
    "collapsed": false
   },
   "outputs": [],
   "source": [
    "trees95.to_csv('../data/trees95.csv', index_label=False)"
   ]
  },
  {
   "cell_type": "markdown",
   "metadata": {},
   "source": [
    "### Exploring '05 Data"
   ]
  },
  {
   "cell_type": "code",
   "execution_count": 22,
   "metadata": {
    "collapsed": false
   },
   "outputs": [
    {
     "data": {
      "text/html": [
       "<div>\n",
       "<table border=\"1\" class=\"dataframe\">\n",
       "  <thead>\n",
       "    <tr style=\"text-align: right;\">\n",
       "      <th></th>\n",
       "      <th>OBJECTID</th>\n",
       "      <th>cen_year</th>\n",
       "      <th>tree_dbh</th>\n",
       "      <th>tree_loc</th>\n",
       "      <th>pit_type</th>\n",
       "      <th>soil_lvl</th>\n",
       "      <th>status</th>\n",
       "      <th>spc_latin</th>\n",
       "      <th>spc_common</th>\n",
       "      <th>vert_other</th>\n",
       "      <th>...</th>\n",
       "      <th>cncldist</th>\n",
       "      <th>st_assem</th>\n",
       "      <th>st_senate</th>\n",
       "      <th>nta</th>\n",
       "      <th>nta_name</th>\n",
       "      <th>boro_ct</th>\n",
       "      <th>x_sp</th>\n",
       "      <th>y_sp</th>\n",
       "      <th>objectid_1</th>\n",
       "      <th>Location 1</th>\n",
       "    </tr>\n",
       "  </thead>\n",
       "  <tbody>\n",
       "    <tr>\n",
       "      <th>0</th>\n",
       "      <td>592373</td>\n",
       "      <td>2005</td>\n",
       "      <td>6</td>\n",
       "      <td>Front</td>\n",
       "      <td>Sidewalk Pit</td>\n",
       "      <td>Level</td>\n",
       "      <td>Good</td>\n",
       "      <td>PYRUS CALLERYANA</td>\n",
       "      <td>PEAR, CALLERY</td>\n",
       "      <td>No</td>\n",
       "      <td>...</td>\n",
       "      <td>44</td>\n",
       "      <td>48</td>\n",
       "      <td>17</td>\n",
       "      <td>BK88</td>\n",
       "      <td>Borough Park</td>\n",
       "      <td>3021600.0</td>\n",
       "      <td>984182</td>\n",
       "      <td>169769</td>\n",
       "      <td>0</td>\n",
       "      <td>1139 57 STREET\\nNew York\\n(40.632653207600001,...</td>\n",
       "    </tr>\n",
       "    <tr>\n",
       "      <th>1</th>\n",
       "      <td>592374</td>\n",
       "      <td>2005</td>\n",
       "      <td>6</td>\n",
       "      <td>Across</td>\n",
       "      <td>Sidewalk Pit</td>\n",
       "      <td>Level</td>\n",
       "      <td>Good</td>\n",
       "      <td>PLATANUS ACERIFOLIA</td>\n",
       "      <td>LONDON PLANETREE</td>\n",
       "      <td>No</td>\n",
       "      <td>...</td>\n",
       "      <td>46</td>\n",
       "      <td>59</td>\n",
       "      <td>19</td>\n",
       "      <td>BK45</td>\n",
       "      <td>Georgetown-Marine Park-Bergen Beach-Mill Basin</td>\n",
       "      <td>3070600.0</td>\n",
       "      <td>1011608</td>\n",
       "      <td>165205</td>\n",
       "      <td>1</td>\n",
       "      <td>2220 BERGEN AVENUE\\nNew York\\n(40.620083746799...</td>\n",
       "    </tr>\n",
       "    <tr>\n",
       "      <th>2</th>\n",
       "      <td>592375</td>\n",
       "      <td>2005</td>\n",
       "      <td>13</td>\n",
       "      <td>Front</td>\n",
       "      <td>Continuous Pit</td>\n",
       "      <td>Level</td>\n",
       "      <td>Good</td>\n",
       "      <td>ACER PLATANOIDES          CRIMSON KING</td>\n",
       "      <td>MAPLE, NORWAY-CR KNG</td>\n",
       "      <td>No</td>\n",
       "      <td>...</td>\n",
       "      <td>46</td>\n",
       "      <td>59</td>\n",
       "      <td>19</td>\n",
       "      <td>BK45</td>\n",
       "      <td>Georgetown-Marine Park-Bergen Beach-Mill Basin</td>\n",
       "      <td>3070600.0</td>\n",
       "      <td>1012259</td>\n",
       "      <td>164445</td>\n",
       "      <td>2</td>\n",
       "      <td>2360 BERGEN AVENUE\\nNew York\\n(40.617995671700...</td>\n",
       "    </tr>\n",
       "    <tr>\n",
       "      <th>3</th>\n",
       "      <td>592376</td>\n",
       "      <td>2005</td>\n",
       "      <td>13</td>\n",
       "      <td>Across</td>\n",
       "      <td>Sidewalk Pit</td>\n",
       "      <td>Level</td>\n",
       "      <td>Good</td>\n",
       "      <td>PLATANUS ACERIFOLIA</td>\n",
       "      <td>LONDON PLANETREE</td>\n",
       "      <td>No</td>\n",
       "      <td>...</td>\n",
       "      <td>46</td>\n",
       "      <td>59</td>\n",
       "      <td>19</td>\n",
       "      <td>BK45</td>\n",
       "      <td>Georgetown-Marine Park-Bergen Beach-Mill Basin</td>\n",
       "      <td>3070600.0</td>\n",
       "      <td>1011733</td>\n",
       "      <td>165063</td>\n",
       "      <td>3</td>\n",
       "      <td>2254 BERGEN AVENUE\\nNew York\\n(40.619693599599...</td>\n",
       "    </tr>\n",
       "    <tr>\n",
       "      <th>4</th>\n",
       "      <td>592377</td>\n",
       "      <td>2005</td>\n",
       "      <td>15</td>\n",
       "      <td>Across</td>\n",
       "      <td>Sidewalk Pit</td>\n",
       "      <td>Level</td>\n",
       "      <td>Good</td>\n",
       "      <td>PLATANUS ACERIFOLIA</td>\n",
       "      <td>LONDON PLANETREE</td>\n",
       "      <td>No</td>\n",
       "      <td>...</td>\n",
       "      <td>46</td>\n",
       "      <td>59</td>\n",
       "      <td>19</td>\n",
       "      <td>BK45</td>\n",
       "      <td>Georgetown-Marine Park-Bergen Beach-Mill Basin</td>\n",
       "      <td>3070600.0</td>\n",
       "      <td>1012160</td>\n",
       "      <td>164564</td>\n",
       "      <td>4</td>\n",
       "      <td>2332 BERGEN AVENUE\\nNew York\\n(40.618322614400...</td>\n",
       "    </tr>\n",
       "  </tbody>\n",
       "</table>\n",
       "<p>5 rows × 47 columns</p>\n",
       "</div>"
      ],
      "text/plain": [
       "   OBJECTID  cen_year  tree_dbh tree_loc        pit_type soil_lvl status  \\\n",
       "0    592373      2005         6    Front    Sidewalk Pit    Level   Good   \n",
       "1    592374      2005         6   Across    Sidewalk Pit    Level   Good   \n",
       "2    592375      2005        13    Front  Continuous Pit    Level   Good   \n",
       "3    592376      2005        13   Across    Sidewalk Pit    Level   Good   \n",
       "4    592377      2005        15   Across    Sidewalk Pit    Level   Good   \n",
       "\n",
       "                                spc_latin            spc_common vert_other  \\\n",
       "0                        PYRUS CALLERYANA         PEAR, CALLERY         No   \n",
       "1                     PLATANUS ACERIFOLIA      LONDON PLANETREE         No   \n",
       "2  ACER PLATANOIDES          CRIMSON KING  MAPLE, NORWAY-CR KNG         No   \n",
       "3                     PLATANUS ACERIFOLIA      LONDON PLANETREE         No   \n",
       "4                     PLATANUS ACERIFOLIA      LONDON PLANETREE         No   \n",
       "\n",
       "                         ...                         cncldist st_assem  \\\n",
       "0                        ...                               44       48   \n",
       "1                        ...                               46       59   \n",
       "2                        ...                               46       59   \n",
       "3                        ...                               46       59   \n",
       "4                        ...                               46       59   \n",
       "\n",
       "  st_senate   nta                                        nta_name    boro_ct  \\\n",
       "0        17  BK88                                    Borough Park  3021600.0   \n",
       "1        19  BK45  Georgetown-Marine Park-Bergen Beach-Mill Basin  3070600.0   \n",
       "2        19  BK45  Georgetown-Marine Park-Bergen Beach-Mill Basin  3070600.0   \n",
       "3        19  BK45  Georgetown-Marine Park-Bergen Beach-Mill Basin  3070600.0   \n",
       "4        19  BK45  Georgetown-Marine Park-Bergen Beach-Mill Basin  3070600.0   \n",
       "\n",
       "      x_sp    y_sp objectid_1  \\\n",
       "0   984182  169769          0   \n",
       "1  1011608  165205          1   \n",
       "2  1012259  164445          2   \n",
       "3  1011733  165063          3   \n",
       "4  1012160  164564          4   \n",
       "\n",
       "                                          Location 1  \n",
       "0  1139 57 STREET\\nNew York\\n(40.632653207600001,...  \n",
       "1  2220 BERGEN AVENUE\\nNew York\\n(40.620083746799...  \n",
       "2  2360 BERGEN AVENUE\\nNew York\\n(40.617995671700...  \n",
       "3  2254 BERGEN AVENUE\\nNew York\\n(40.619693599599...  \n",
       "4  2332 BERGEN AVENUE\\nNew York\\n(40.618322614400...  \n",
       "\n",
       "[5 rows x 47 columns]"
      ]
     },
     "execution_count": 22,
     "metadata": {},
     "output_type": "execute_result"
    }
   ],
   "source": [
    "trees05.head()"
   ]
  },
  {
   "cell_type": "code",
   "execution_count": 23,
   "metadata": {
    "collapsed": false
   },
   "outputs": [
    {
     "data": {
      "text/plain": [
       "Index([u'OBJECTID', u'cen_year', u'tree_dbh', u'tree_loc', u'pit_type',\n",
       "       u'soil_lvl', u'status', u'spc_latin', u'spc_common', u'vert_other',\n",
       "       u'vert_pgrd', u'vert_tgrd', u'vert_wall', u'horz_blck', u'horz_grate',\n",
       "       u'horz_plant', u'horz_other', u'sidw_crack', u'sidw_raise',\n",
       "       u'wire_htap', u'wire_prime', u'wire_2nd', u'wire_other', u'inf_canopy',\n",
       "       u'inf_guard', u'inf_wires', u'inf_paving', u'inf_outlet', u'inf_shoes',\n",
       "       u'inf_lights', u'inf_other', u'trunk_dmg', u'zipcode', u'zip_city',\n",
       "       u'cb_num', u'borocode', u'boroname', u'cncldist', u'st_assem',\n",
       "       u'st_senate', u'nta', u'nta_name', u'boro_ct', u'x_sp', u'y_sp',\n",
       "       u'objectid_1', u'Location 1'],\n",
       "      dtype='object')"
      ]
     },
     "execution_count": 23,
     "metadata": {},
     "output_type": "execute_result"
    }
   ],
   "source": [
    "trees05.columns"
   ]
  },
  {
   "cell_type": "code",
   "execution_count": 53,
   "metadata": {
    "collapsed": false
   },
   "outputs": [
    {
     "data": {
      "text/plain": [
       "array(['Fair', 5, 'Good', ..., 592240, 592244, 592254], dtype=object)"
      ]
     },
     "execution_count": 53,
     "metadata": {},
     "output_type": "execute_result"
    }
   ],
   "source": [
    "pd.unique(trees05.objectid_1)"
   ]
  },
  {
   "cell_type": "code",
   "execution_count": 24,
   "metadata": {
    "collapsed": false
   },
   "outputs": [
    {
     "data": {
      "text/plain": [
       "array(['Good', 'Poor', 'Excellent', 'Dead'], dtype=object)"
      ]
     },
     "execution_count": 24,
     "metadata": {},
     "output_type": "execute_result"
    }
   ],
   "source": [
    "pd.unique(trees05['status'])"
   ]
  },
  {
   "cell_type": "code",
   "execution_count": 25,
   "metadata": {
    "collapsed": false
   },
   "outputs": [
    {
     "name": "stdout",
     "output_type": "stream",
     "text": [
      "49131\n",
      "393464\n",
      "141657\n"
     ]
    }
   ],
   "source": [
    "print len(trees05[trees05['status'] == 'Poor'])\n",
    "print len(trees05[trees05['status'] == 'Good'])\n",
    "print len(trees05[trees05['status'] == 'Excellent'])\n"
   ]
  },
  {
   "cell_type": "code",
   "execution_count": 26,
   "metadata": {
    "collapsed": false
   },
   "outputs": [
    {
     "name": "stdout",
     "output_type": "stream",
     "text": [
      "393464\n",
      "49131\n",
      "141657\n",
      "0\n"
     ]
    }
   ],
   "source": [
    "trees05.loc[trees05.status == 'Good'] = 'Fair'\n",
    "trees05.loc[trees05.status == 'Excellent'] = 'Good'\n",
    "\n",
    "print len(trees05[trees05['status'] == 'Fair'])\n",
    "print len(trees05[trees05['status'] == 'Poor'])\n",
    "print len(trees05[trees05['status'] == 'Good'])\n",
    "print len(trees05[trees05['status'] == 'Excellent'])\n"
   ]
  },
  {
   "cell_type": "code",
   "execution_count": 28,
   "metadata": {
    "collapsed": false
   },
   "outputs": [
    {
     "data": {
      "text/plain": [
       "array(['Fair', 'Poor', 'Good', 'Dead'], dtype=object)"
      ]
     },
     "execution_count": 28,
     "metadata": {},
     "output_type": "execute_result"
    }
   ],
   "source": [
    "pd.unique(trees05['status'])"
   ]
  },
  {
   "cell_type": "code",
   "execution_count": 29,
   "metadata": {
    "collapsed": true
   },
   "outputs": [],
   "source": [
    "trees05.loc[trees05.status == 'Dead'] = ''\n"
   ]
  },
  {
   "cell_type": "code",
   "execution_count": 30,
   "metadata": {
    "collapsed": false
   },
   "outputs": [
    {
     "data": {
      "text/plain": [
       "array(['Fair', 'Poor', 'Good', ''], dtype=object)"
      ]
     },
     "execution_count": 30,
     "metadata": {},
     "output_type": "execute_result"
    }
   ],
   "source": [
    "pd.unique(trees05['status'])"
   ]
  },
  {
   "cell_type": "code",
   "execution_count": 33,
   "metadata": {
    "collapsed": false
   },
   "outputs": [],
   "source": [
    "trees05.rename(index=str, columns={\"status\": \"health\"}, inplace=True)"
   ]
  },
  {
   "cell_type": "code",
   "execution_count": 48,
   "metadata": {
    "collapsed": true
   },
   "outputs": [],
   "source": [
    "trees05.drop('Location 1', axis=1, inplace=True)"
   ]
  },
  {
   "cell_type": "code",
   "execution_count": 50,
   "metadata": {
    "collapsed": true
   },
   "outputs": [],
   "source": [
    "trees05.to_csv('../data/trees05.csv', index_label=False)"
   ]
  },
  {
   "cell_type": "code",
   "execution_count": null,
   "metadata": {
    "collapsed": true
   },
   "outputs": [],
   "source": []
  },
  {
   "cell_type": "markdown",
   "metadata": {},
   "source": [
    "### Exploring '15 "
   ]
  },
  {
   "cell_type": "code",
   "execution_count": null,
   "metadata": {
    "collapsed": false
   },
   "outputs": [],
   "source": [
    "trees15.head()"
   ]
  },
  {
   "cell_type": "code",
   "execution_count": null,
   "metadata": {
    "collapsed": false
   },
   "outputs": [],
   "source": [
    "trees15.columns"
   ]
  },
  {
   "cell_type": "code",
   "execution_count": 11,
   "metadata": {
    "collapsed": false
   },
   "outputs": [
    {
     "data": {
      "text/plain": [
       "array(['Good', ' ', 'Poor', 'Fair'], dtype=object)"
      ]
     },
     "execution_count": 11,
     "metadata": {},
     "output_type": "execute_result"
    }
   ],
   "source": [
    "pd.unique(trees15.health)"
   ]
  },
  {
   "cell_type": "markdown",
   "metadata": {},
   "source": [
    "### Attaching to Census Block"
   ]
  },
  {
   "cell_type": "code",
   "execution_count": null,
   "metadata": {
    "collapsed": true
   },
   "outputs": [],
   "source": [
    "shp = gp.GeoDataFrame.from_file('../data/nycb2010_16b/nycb2010.shp')\n"
   ]
  },
  {
   "cell_type": "code",
   "execution_count": null,
   "metadata": {
    "collapsed": true
   },
   "outputs": [],
   "source": []
  },
  {
   "cell_type": "code",
   "execution_count": null,
   "metadata": {
    "collapsed": true
   },
   "outputs": [],
   "source": []
  },
  {
   "cell_type": "code",
   "execution_count": null,
   "metadata": {
    "collapsed": true
   },
   "outputs": [],
   "source": []
  }
 ],
 "metadata": {
  "kernelspec": {
   "display_name": "Python 2",
   "language": "python",
   "name": "python2"
  },
  "language_info": {
   "codemirror_mode": {
    "name": "ipython",
    "version": 2
   },
   "file_extension": ".py",
   "mimetype": "text/x-python",
   "name": "python",
   "nbconvert_exporter": "python",
   "pygments_lexer": "ipython2",
   "version": "2.7.10"
  }
 },
 "nbformat": 4,
 "nbformat_minor": 0
}
